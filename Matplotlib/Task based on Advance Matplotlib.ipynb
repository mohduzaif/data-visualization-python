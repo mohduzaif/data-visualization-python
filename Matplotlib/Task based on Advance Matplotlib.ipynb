{
 "cells": [
  {
   "cell_type": "code",
   "execution_count": 1,
   "id": "eff25ca7-6f2d-4a91-8cea-257921480f1a",
   "metadata": {},
   "outputs": [],
   "source": [
    "import numpy as np\n",
    "import pandas as pd\n",
    "import matplotlib.pyplot as plt\n",
    "\n",
    "from sklearn.preprocessing import LabelEncoder\n",
    "\n",
    "plt.style.use('default')"
   ]
  },
  {
   "cell_type": "markdown",
   "id": "a7bb3adc-d705-438a-872b-be5b77871328",
   "metadata": {},
   "source": [
    "## **Problem 1 to 2:**\n",
    "\n",
    "**Dataset link:** https://rb.gy/gsmddu\n",
    "\n",
    "**Add a label to every axis and add a proper title for the charts (For every subplot, it is applicable). Also add proper labels if there are multiple representations.** Then, you can customize it as your wish."
   ]
  },
  {
   "cell_type": "code",
   "execution_count": 3,
   "id": "644aed1e-b60f-4a99-9870-1f7aabf21398",
   "metadata": {},
   "outputs": [],
   "source": [
    "power_station_df = pd.read_csv('https://rb.gy/gsmddu')"
   ]
  },
  {
   "cell_type": "code",
   "execution_count": 4,
   "id": "0c79083c-92f0-401f-b134-c0784bf7c82e",
   "metadata": {},
   "outputs": [
    {
     "data": {
      "text/html": [
       "<div>\n",
       "<style scoped>\n",
       "    .dataframe tbody tr th:only-of-type {\n",
       "        vertical-align: middle;\n",
       "    }\n",
       "\n",
       "    .dataframe tbody tr th {\n",
       "        vertical-align: top;\n",
       "    }\n",
       "\n",
       "    .dataframe thead th {\n",
       "        text-align: right;\n",
       "    }\n",
       "</style>\n",
       "<table border=\"1\" class=\"dataframe\">\n",
       "  <thead>\n",
       "    <tr style=\"text-align: right;\">\n",
       "      <th></th>\n",
       "      <th>Dates</th>\n",
       "      <th>Power Station</th>\n",
       "      <th>Monitored Cap.(MW)</th>\n",
       "      <th>Total Cap. Under Maintenace (MW)</th>\n",
       "      <th>Planned Maintanence (MW)</th>\n",
       "      <th>Forced Maintanence(MW)</th>\n",
       "      <th>Other Reasons (MW)</th>\n",
       "      <th>Programme or Expected(MU)</th>\n",
       "      <th>Actual(MU)</th>\n",
       "      <th>Excess(+) / Shortfall (-)</th>\n",
       "      <th>Deviation</th>\n",
       "    </tr>\n",
       "  </thead>\n",
       "  <tbody>\n",
       "    <tr>\n",
       "      <th>0</th>\n",
       "      <td>2017-09-01</td>\n",
       "      <td>Delhi</td>\n",
       "      <td>2235.4</td>\n",
       "      <td>135.00</td>\n",
       "      <td>0.00</td>\n",
       "      <td>135.0</td>\n",
       "      <td>0</td>\n",
       "      <td>13</td>\n",
       "      <td>18</td>\n",
       "      <td>5.00</td>\n",
       "      <td>0.0</td>\n",
       "    </tr>\n",
       "    <tr>\n",
       "      <th>1</th>\n",
       "      <td>2017-09-01</td>\n",
       "      <td>Haryana</td>\n",
       "      <td>2720.0</td>\n",
       "      <td>2470.00</td>\n",
       "      <td>0.00</td>\n",
       "      <td>2470.0</td>\n",
       "      <td>0</td>\n",
       "      <td>28</td>\n",
       "      <td>7</td>\n",
       "      <td>-21.80</td>\n",
       "      <td>0.0</td>\n",
       "    </tr>\n",
       "    <tr>\n",
       "      <th>2</th>\n",
       "      <td>2017-09-01</td>\n",
       "      <td>Himachal Pradesh</td>\n",
       "      <td>3378.0</td>\n",
       "      <td>379.00</td>\n",
       "      <td>0.00</td>\n",
       "      <td>231.0</td>\n",
       "      <td>0</td>\n",
       "      <td>40</td>\n",
       "      <td>46</td>\n",
       "      <td>5.63</td>\n",
       "      <td>0.0</td>\n",
       "    </tr>\n",
       "    <tr>\n",
       "      <th>3</th>\n",
       "      <td>2017-09-01</td>\n",
       "      <td>Jammu and Kashmir</td>\n",
       "      <td>1285.0</td>\n",
       "      <td>150.00</td>\n",
       "      <td>0.00</td>\n",
       "      <td>0.0</td>\n",
       "      <td>0</td>\n",
       "      <td>14</td>\n",
       "      <td>23</td>\n",
       "      <td>9.43</td>\n",
       "      <td>0.0</td>\n",
       "    </tr>\n",
       "    <tr>\n",
       "      <th>4</th>\n",
       "      <td>2017-09-01</td>\n",
       "      <td>Punjab</td>\n",
       "      <td>3826.3</td>\n",
       "      <td>2697.65</td>\n",
       "      <td>77.65</td>\n",
       "      <td>2620.0</td>\n",
       "      <td>0</td>\n",
       "      <td>39</td>\n",
       "      <td>17</td>\n",
       "      <td>-21.69</td>\n",
       "      <td>0.0</td>\n",
       "    </tr>\n",
       "  </tbody>\n",
       "</table>\n",
       "</div>"
      ],
      "text/plain": [
       "        Dates      Power Station  Monitored Cap.(MW)  \\\n",
       "0  2017-09-01              Delhi              2235.4   \n",
       "1  2017-09-01            Haryana              2720.0   \n",
       "2  2017-09-01   Himachal Pradesh              3378.0   \n",
       "3  2017-09-01  Jammu and Kashmir              1285.0   \n",
       "4  2017-09-01             Punjab              3826.3   \n",
       "\n",
       "   Total Cap. Under Maintenace (MW)  Planned Maintanence (MW)  \\\n",
       "0                            135.00                      0.00   \n",
       "1                           2470.00                      0.00   \n",
       "2                            379.00                      0.00   \n",
       "3                            150.00                      0.00   \n",
       "4                           2697.65                     77.65   \n",
       "\n",
       "   Forced Maintanence(MW)  Other Reasons (MW)  Programme or Expected(MU)  \\\n",
       "0                   135.0                   0                         13   \n",
       "1                  2470.0                   0                         28   \n",
       "2                   231.0                   0                         40   \n",
       "3                     0.0                   0                         14   \n",
       "4                  2620.0                   0                         39   \n",
       "\n",
       "   Actual(MU)  Excess(+) / Shortfall (-)  Deviation  \n",
       "0          18                       5.00        0.0  \n",
       "1           7                     -21.80        0.0  \n",
       "2          46                       5.63        0.0  \n",
       "3          23                       9.43        0.0  \n",
       "4          17                     -21.69        0.0  "
      ]
     },
     "execution_count": 4,
     "metadata": {},
     "output_type": "execute_result"
    }
   ],
   "source": [
    "power_station_df.head()"
   ]
  },
  {
   "cell_type": "markdown",
   "id": "9322e9b2-7b44-4ae2-87a3-a027445708c1",
   "metadata": {},
   "source": [
    "### **Problem-1:** Make a subplots which have 2 plots.\n",
    "\n",
    "- For the first chart, draw a scatter plot \"*Monitored Cap.(MW)*\" vs \"*Total Cap. Under Maintenance (MW)*\" of top 5 most frequent power stations. Then draw the lines which indicate the average values of these two columns. Change the colors according to the names of the Power Stations.\n",
    "- For the second chart, draw a scatter plot \"*Monitored Cap. (MW)*\" vs \"*Actual(MU)*\" of the top 5 most frequent power stations. Also draw the lines which indicates the average values of these two columns. Change the colors according to the names of the Power Stations.\n"
   ]
  },
  {
   "cell_type": "code",
   "execution_count": null,
   "id": "93bfdd1d-1e96-4980-93cf-60574eceae5c",
   "metadata": {},
   "outputs": [],
   "source": [
    "freq_power_station = power_station_df['Power Station'].value_counts().head()\n",
    "freq_power_station"
   ]
  },
  {
   "cell_type": "code",
   "execution_count": null,
   "id": "7d5bd2b4-1a8e-4fb2-ab80-4f380ad3273b",
   "metadata": {},
   "outputs": [],
   "source": [
    "fig, ax = plt.subplots(nrows = 2, ncols=1, figsize = (16, 8))\n",
    "\n",
    "ax[0].scatter(freq_power_station.index, freq_power_station.values)\n",
    "ax[0].plot(freq_power_station.index, freq_power_station.values)"
   ]
  },
  {
   "cell_type": "code",
   "execution_count": null,
   "id": "c190634e-462d-4bd3-be03-5d913c25ba2c",
   "metadata": {},
   "outputs": [],
   "source": []
  }
 ],
 "metadata": {
  "kernelspec": {
   "display_name": "Python 3 (ipykernel)",
   "language": "python",
   "name": "python3"
  },
  "language_info": {
   "codemirror_mode": {
    "name": "ipython",
    "version": 3
   },
   "file_extension": ".py",
   "mimetype": "text/x-python",
   "name": "python",
   "nbconvert_exporter": "python",
   "pygments_lexer": "ipython3",
   "version": "3.13.1"
  }
 },
 "nbformat": 4,
 "nbformat_minor": 5
}
